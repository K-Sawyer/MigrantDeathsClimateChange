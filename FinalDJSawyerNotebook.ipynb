{
 "cells": [
  {
   "cell_type": "markdown",
   "id": "81bf1e67-d79c-4829-bfce-c602ad364436",
   "metadata": {
    "tags": []
   },
   "source": [
    "# **Crises Collide:** is there a correlation between rising temperatures and migrant deaths in the Sonoran Desert of Arizona?\n",
    "## **_Katie Sawyer_**\n",
    "### December 19, 2022"
   ]
  },
  {
   "cell_type": "markdown",
   "id": "9f114f64-72d5-4097-9243-b1b932ba27d9",
   "metadata": {},
   "source": [
    "***"
   ]
  },
  {
   "cell_type": "markdown",
   "id": "1e06758d-7001-448e-b7af-937704764902",
   "metadata": {},
   "source": [
    "**→** In this notebook, I will be comparing the number of migrant deaths on the Southern Arizona border with the increase in average monthly temberatures in the area due to climate change. I will be using climate data taken from the National Centers for Environmental Information operated by the National Oceanic and Atmospheric Administration (NOAA) at their Ajo, Arizona substation from 2010 to 2022, and an open database by Humane Borders mapping migrant deaths. I will need to rename columns to match the data, remove unnecessary data and columns, and isolate variables to get the comparison I am looking for.\n",
    "\n",
    "### _The goal of this project is to inform readers of this issue through visualizations of data in my article. In tandem, I hope to find support for my hypothesis: that increased temperatures in the Sonoran Desert due to climate change correlates with the number of migrant deaths due to exposure._\n",
    "\n",
    " _Citations for the datasets are listed at the end of this notebook._"
   ]
  },
  {
   "cell_type": "code",
   "execution_count": null,
   "id": "c33dfa6e-4043-43f2-a5c8-61ab1b4da44c",
   "metadata": {
    "tags": []
   },
   "outputs": [],
   "source": [
    "import pandas as pd "
   ]
  },
  {
   "cell_type": "code",
   "execution_count": null,
   "id": "af58358c-c0f9-497b-ac5c-9a0c6bd2a1a4",
   "metadata": {
    "tags": []
   },
   "outputs": [],
   "source": [
    "dfExposure = pd.read_csv(\"ExposureMigrantDeaths.csv\")"
   ]
  },
  {
   "cell_type": "code",
   "execution_count": null,
   "id": "b0ccc27e-ec05-42fb-b0a7-14bf93782c4b",
   "metadata": {},
   "outputs": [],
   "source": [
    "dfAllDeaths = pd.read_csv(\"AllMigrantDeaths.csv\")"
   ]
  },
  {
   "cell_type": "markdown",
   "id": "b69b7351-26cd-4b32-84fa-ff3dee88b2b3",
   "metadata": {
    "tags": []
   },
   "source": [
    "**_First, I'm going to change the reporting date to match my other data set, 'Ajo Temps', so that I can later merge them._**"
   ]
  },
  {
   "cell_type": "code",
   "execution_count": null,
   "id": "1b9ee7af-c90b-40c8-a37e-a9cda89a8c68",
   "metadata": {},
   "outputs": [],
   "source": [
    "dfExposure['Reporting Date'] = dfExposure['Reporting Date'].apply(lambda x: \"-\".join(x.split('-')[:-1]))\n",
    "dfExposure = dfExposure.rename(columns={'Reporting Date':'DATE'})"
   ]
  },
  {
   "cell_type": "code",
   "execution_count": null,
   "id": "b178b2a0-89ba-4c19-89f0-7d836d0c6210",
   "metadata": {
    "tags": []
   },
   "outputs": [],
   "source": [
    "dfExposure.head()"
   ]
  },
  {
   "cell_type": "code",
   "execution_count": null,
   "id": "6848740d-b268-4412-9815-f4310aab970a",
   "metadata": {
    "tags": []
   },
   "outputs": [],
   "source": [
    "dfExposure.columns"
   ]
  },
  {
   "cell_type": "markdown",
   "id": "7ebbc192-cf55-40e0-af7b-5dfc0a1e256c",
   "metadata": {},
   "source": [
    "**_Now I need to get rid of the hypothermia COD and isolate heat-related deaths, as these are the most relevant to my hypothesis._**"
   ]
  },
  {
   "cell_type": "code",
   "execution_count": null,
   "id": "a856f22f-64a2-4d64-9a60-fa1d3ff3ee1c",
   "metadata": {},
   "outputs": [],
   "source": [
    "dfHyper = dfExposure[dfExposure['OME Determined COD'] != \"HYPOTHERMIA\"]"
   ]
  },
  {
   "cell_type": "code",
   "execution_count": null,
   "id": "c372c8ce-b9b3-4e74-a8fb-8ca02655d8a0",
   "metadata": {
    "tags": []
   },
   "outputs": [],
   "source": [
    "dfHyper"
   ]
  },
  {
   "cell_type": "markdown",
   "id": "9d641dd4-76a5-43df-8c4b-2febcc029b37",
   "metadata": {},
   "source": [
    "***"
   ]
  },
  {
   "cell_type": "markdown",
   "id": "07c8ad98-b154-47a3-9e0e-0507087f8d1f",
   "metadata": {},
   "source": [
    "**_Great! In order to better illustrate my data for my story, now I'd like to create an interactive map that shows where the exposure deaths happened. I will need to import geopandas for this._**\n",
    "\n",
    "**→** The following steps are attributed to my friend, Jona, who helped me write the code needed to create maps like these."
   ]
  },
  {
   "cell_type": "markdown",
   "id": "2def01c4-f30c-4ff7-b88e-ad046d907be4",
   "metadata": {},
   "source": [
    "***"
   ]
  },
  {
   "cell_type": "code",
   "execution_count": null,
   "id": "d15867c5-4c46-4c9a-9b5f-5714db5ad646",
   "metadata": {
    "tags": []
   },
   "outputs": [],
   "source": [
    "pip install geopandas"
   ]
  },
  {
   "cell_type": "code",
   "execution_count": null,
   "id": "7d6d3d17-1e83-4e55-a448-037121e18cda",
   "metadata": {
    "tags": []
   },
   "outputs": [],
   "source": [
    "import numpy as np\n",
    "import matplotlib.pyplot as plt\n",
    "import geopandas as gpd\n",
    "from shapely.geometry import Point\n",
    "\n",
    "import plotly.express as px"
   ]
  },
  {
   "cell_type": "markdown",
   "id": "bc338daa-b72b-495b-827f-faf68eb0f34a",
   "metadata": {},
   "source": [
    "**_That worked! Before creating my map though, I'd like to first check for missing values just in case my column has NaN data._**"
   ]
  },
  {
   "cell_type": "code",
   "execution_count": null,
   "id": "754d3d23-c44e-4d03-bc67-e3bf83b52741",
   "metadata": {
    "tags": []
   },
   "outputs": [],
   "source": [
    "dfHyper.isna().sum()"
   ]
  },
  {
   "cell_type": "markdown",
   "id": "39f937a4-a2b5-4ed7-92a8-8380082f1c3a",
   "metadata": {},
   "source": [
    "**_Alright, now lets double check our array of unique elements using .unique._**"
   ]
  },
  {
   "cell_type": "code",
   "execution_count": null,
   "id": "b123e649-677e-4997-b69f-5e253da6afd2",
   "metadata": {
    "tags": []
   },
   "outputs": [],
   "source": [
    "dfHyper['Cause of Death'].unique()"
   ]
  },
  {
   "cell_type": "markdown",
   "id": "a026f676-84f1-4ff5-9987-42e9fea85ec8",
   "metadata": {},
   "source": [
    "**_No problems there! I'm ready to move on. I already created my dataset that includes only the variables I am interested in (heat-exposure related deaths), so now I can create my scatter mapbox using dfHyper._**"
   ]
  },
  {
   "cell_type": "code",
   "execution_count": null,
   "id": "5d5824d0-5322-4a61-b369-aa85ec5455cc",
   "metadata": {
    "tags": []
   },
   "outputs": [],
   "source": [
    "fig = px.scatter_mapbox(dfHyper, \n",
    "                        lat=\"Latitude\", \n",
    "                        lon=\"Longitude\",\n",
    "                        color='Cause of Death',\n",
    "                        zoom=8, \n",
    "                        height=800,\n",
    "                        width=800)\n",
    "fig.update_layout(mapbox_style=\"open-street-map\")\n",
    "fig.update_layout(margin={\"r\":0,\"t\":0,\"l\":0,\"b\":0})\n"
   ]
  },
  {
   "cell_type": "markdown",
   "id": "c0950284-a281-4112-bed2-178b388812ba",
   "metadata": {},
   "source": [
    "**_That was cool. Now I'm going to save that using the camera icon and include it in my story to give my readers a visualization of the crisis._**"
   ]
  },
  {
   "cell_type": "markdown",
   "id": "97c35c7d-4703-466f-a881-cd048f583e46",
   "metadata": {},
   "source": [
    "**→** _Before moving on (and just out of curiosity), I'm also going to make a geopandas scatter.mapbox with all of the causes of death._"
   ]
  },
  {
   "cell_type": "code",
   "execution_count": null,
   "id": "88538109-212a-43b9-a31f-a05dece6f229",
   "metadata": {},
   "outputs": [],
   "source": [
    "fig = px.scatter_mapbox(dfAllDeaths, \n",
    "                        lat=\"Latitude\", \n",
    "                        lon=\"Longitude\",\n",
    "                        color='Cause of Death',\n",
    "                        zoom=8, \n",
    "                        height=800,\n",
    "                        width=800)\n",
    "fig.update_layout(mapbox_style=\"open-street-map\")\n",
    "fig.update_layout(margin={\"r\":0,\"t\":0,\"l\":0,\"b\":0})\n",
    "fig.show()"
   ]
  },
  {
   "cell_type": "markdown",
   "id": "521602df-a63f-40ce-a681-9478f6b2dff2",
   "metadata": {},
   "source": [
    "***"
   ]
  },
  {
   "cell_type": "markdown",
   "id": "69686f75-7f23-4187-bb1e-97288960bfa8",
   "metadata": {},
   "source": [
    "**_Next on the task list, I want to combine the data so I can create a scatterplot. To do that, I need to islate the columns I plan to use and then merge them on the same 'Date' column I created earlier._**"
   ]
  },
  {
   "cell_type": "code",
   "execution_count": null,
   "id": "6b007143-afa2-40f2-862b-21a6b7ce2b30",
   "metadata": {
    "tags": []
   },
   "outputs": [],
   "source": [
    "dfTemps = pd.read_csv(\"AjoTemps1914-2022.csv\", usecols=['DATE', 'TAVG', 'TMIN', 'TMAX'])"
   ]
  },
  {
   "cell_type": "code",
   "execution_count": null,
   "id": "a2e55aa9-a0bc-4306-a8f8-7f28a924c5a9",
   "metadata": {},
   "outputs": [],
   "source": [
    "dfTemps"
   ]
  },
  {
   "cell_type": "code",
   "execution_count": null,
   "id": "84200a8c-f9ef-4249-ab16-738a55969224",
   "metadata": {},
   "outputs": [],
   "source": [
    "df_merged = dfHyper.merge(dfTemps, on=['DATE'])"
   ]
  },
  {
   "cell_type": "code",
   "execution_count": null,
   "id": "6421a3b1-8dee-460a-8b8d-0a92b170d0f7",
   "metadata": {},
   "outputs": [],
   "source": [
    "df_merged"
   ]
  },
  {
   "cell_type": "markdown",
   "id": "989b5c63-0b11-4fe4-aee4-85eae70deaf8",
   "metadata": {},
   "source": [
    "**_Alright! Now I have a merged file that I can use later to show the correlations between my data. But First, I want to show the general trend upward in temperatures._**"
   ]
  },
  {
   "cell_type": "code",
   "execution_count": null,
   "id": "ac4091be-c406-4b3e-9f2b-754299c69faf",
   "metadata": {},
   "outputs": [],
   "source": [
    "dfTemps"
   ]
  },
  {
   "cell_type": "code",
   "execution_count": null,
   "id": "d6e9548a-3b54-4775-a5e7-d4238747a6dc",
   "metadata": {},
   "outputs": [],
   "source": [
    "import seaborn as sns"
   ]
  },
  {
   "cell_type": "code",
   "execution_count": null,
   "id": "3c860886-8a4c-4a49-af52-8a0178069cf4",
   "metadata": {
    "tags": []
   },
   "outputs": [],
   "source": [
    "dfTemps.info()"
   ]
  },
  {
   "cell_type": "markdown",
   "id": "4bc0fd02-7001-47f4-b140-6bce9ffa4988",
   "metadata": {},
   "source": [
    "**_I have so much data, I first need to isolate my date range and specify only the summer months in order to get an accurate scatterplot. I also have to narrow down the date range to the dates that align with my migrant deaths dataset._**"
   ]
  },
  {
   "cell_type": "code",
   "execution_count": null,
   "id": "aaac3710-b937-40bf-a4da-cf636d0fc728",
   "metadata": {},
   "outputs": [],
   "source": [
    "dfTemps['dt'] = dfTemps['DATE'].apply(pd.to_datetime)\n",
    "dfTemps['month'] = dfTemps['dt'].dt.month\n",
    "dfTemps['year'] = dfTemps['dt'].dt.year\n",
    "summer_months = [x for x in range(4,10)]"
   ]
  },
  {
   "cell_type": "code",
   "execution_count": null,
   "id": "33dbf540-b37f-4247-a1dd-b18abb27d599",
   "metadata": {},
   "outputs": [],
   "source": [
    "df_summer = dfTemps[dfTemps['month'].isin(summer_months)]\n",
    "df_summer = df_summer[df_summer['year'] > 2009]\n",
    "df_summer = df_summer[df_summer['year'] < 2022]"
   ]
  },
  {
   "cell_type": "code",
   "execution_count": null,
   "id": "e8ea8060-4f30-47ba-b7de-897c95374f0e",
   "metadata": {
    "tags": []
   },
   "outputs": [],
   "source": [
    "df_summer.to_csv('df_summer.csv')"
   ]
  },
  {
   "cell_type": "code",
   "execution_count": null,
   "id": "7925a4c4-c130-4ec1-8209-f7aeb1d93594",
   "metadata": {
    "tags": []
   },
   "outputs": [],
   "source": [
    "df_summer.plot.scatter(x='year',y='TMAX')"
   ]
  },
  {
   "cell_type": "markdown",
   "id": "44909e18-d11d-4332-834d-32f42b8ccc70",
   "metadata": {},
   "source": [
    "**_Ok, that's kind of ugly. I'm going to try a different approach to illustrate the increase in temperatures over time._**"
   ]
  },
  {
   "cell_type": "code",
   "execution_count": null,
   "id": "44aa1d37-06ac-4ad4-8c7f-d8e0a2356eff",
   "metadata": {},
   "outputs": [],
   "source": [
    "sns.regplot(x='year', y='TMAX',data=df_summer)\n",
    "plt.ylabel('Max Temperature')"
   ]
  },
  {
   "cell_type": "markdown",
   "id": "b4db794c-271f-4ea9-82df-602d65f1a637",
   "metadata": {},
   "source": [
    "**_That's better. The line helps show the increase better than just the scatter points._** \n",
    "\n",
    "**→** Notice that I'm using the maximum monthly temperature as opposed to the average here. It makes sense to show the outlier high temperatures in this chart because these anomalies are indicative of global warming. However, when I combine the data sets below, I need to use the average monthly temperatures to get an accurate read on the data correlation — if there is one."
   ]
  },
  {
   "cell_type": "markdown",
   "id": "8b75bbaa-fcf7-40d3-a477-280367fb7b4b",
   "metadata": {},
   "source": [
    "***"
   ]
  },
  {
   "cell_type": "markdown",
   "id": "62c8eb4c-a1d0-419d-ab92-23980169223e",
   "metadata": {},
   "source": [
    "**_Ok, so here we are: The visulization we've been waiting for._** \n",
    "\n",
    "**→** Now I will combine the data into one plot to hopefully illustrate a correlation between an increase in temperatures and the rise in migrant deaths."
   ]
  },
  {
   "cell_type": "code",
   "execution_count": null,
   "id": "b362efff-de11-42c3-a093-2fef5434c35d",
   "metadata": {},
   "outputs": [],
   "source": [
    "df_merged = dfHyper.merge(dfTemps, on=['DATE'])\n",
    "df_merged = df_merged[['ML Number', 'DATE', 'TAVG']]\n",
    "df_merged = df_merged.dropna()"
   ]
  },
  {
   "cell_type": "code",
   "execution_count": null,
   "id": "7fa6d44e-17b6-47a4-a1f3-a0c17f83b198",
   "metadata": {},
   "outputs": [],
   "source": [
    "df_deaths=df_merged.groupby('DATE').nunique()['ML Number'].reset_index()\n",
    "df_deaths = df_deaths.merge(dfTemps.groupby(\"DATE\").mean()['TAVG'].reset_index(), on=['DATE'])\n",
    "df_deaths.dropna(inplace=True)"
   ]
  },
  {
   "cell_type": "code",
   "execution_count": null,
   "id": "23f4e3af-cca4-4125-a4a2-c14a97cbde85",
   "metadata": {},
   "outputs": [],
   "source": [
    "df_deaths"
   ]
  },
  {
   "cell_type": "code",
   "execution_count": null,
   "id": "a029af22-0ba6-45cd-b348-e33643912ff4",
   "metadata": {},
   "outputs": [],
   "source": [
    "df_deaths_long = df_deaths.melt(id_vars='DATE')"
   ]
  },
  {
   "cell_type": "code",
   "execution_count": null,
   "id": "5dc1f9ff-a41f-4f33-84d0-df61e4d4b9b6",
   "metadata": {},
   "outputs": [],
   "source": [
    "sns.regplot(x='TAVG', y='ML Number',data=df_deaths)\n",
    "plt.xlabel('Average Temperature')\n",
    "plt.ylabel('Migrant Deaths')\n",
    "plt.figure(figsize=(10,10))\n",
    "plt.savefig('test.jpg',dpi=300)"
   ]
  },
  {
   "cell_type": "markdown",
   "id": "fb9ee66e-760d-423f-b5b5-6102d0ac6e7d",
   "metadata": {
    "tags": []
   },
   "source": [
    "**_& there she is!_**\n",
    "\n",
    "**→** While this chart does not prove a causal relationship between rising temperatures and an increase in migrant deaths, it does show there is a correlation. It must be noted here that other factors, such as an increase in migration overall, could be confounding variables that are not accounted for here. This could cause a spurious relationship in my data."
   ]
  },
  {
   "cell_type": "markdown",
   "id": "16e1c18a-694e-4a5a-a200-913adcb755cd",
   "metadata": {},
   "source": [
    "***"
   ]
  },
  {
   "cell_type": "markdown",
   "id": "53968860-c23d-48ea-a004-c197e93bbd3b",
   "metadata": {},
   "source": [
    "**_And speaking of spurious variables, this reminds me to check the data for the frequency of deaths that are listed as \"unknown\" or simply \"skeletal remains.\" This means I'll open the data set with all causes of death listed for migrants._**"
   ]
  },
  {
   "cell_type": "code",
   "execution_count": null,
   "id": "4383049f-d73e-488f-a34d-085b355e56e8",
   "metadata": {
    "tags": []
   },
   "outputs": [],
   "source": [
    "dfAllDeaths['OME Determined COD'].value_counts()"
   ]
  },
  {
   "cell_type": "markdown",
   "id": "d3464a8d-7541-4985-bbf6-282dcb9adfb3",
   "metadata": {},
   "source": [
    "**_This is really interesting. The most common cause of death listed is hyperthermia, which is unsurprising at this point. However, the next four largest categories are some form of undetermined cause of death. So, while hyperthermia is the leading cause of death for migrants according to this data, it may be much higher or lower on the list if these other migrants had determined causes of death._**"
   ]
  },
  {
   "cell_type": "markdown",
   "id": "3f191ffe-139d-457f-a844-d9790a298ce2",
   "metadata": {},
   "source": [
    "***"
   ]
  },
  {
   "cell_type": "markdown",
   "id": "ec405581-156b-43e9-b4ab-54b18c79435e",
   "metadata": {},
   "source": [
    "**_Finally, I decided to incorporate the code given to me by Freddy to see if I could plot the two data sets together. This proved difficult, and I was unable to figure out how to include a third axis._**"
   ]
  },
  {
   "cell_type": "code",
   "execution_count": null,
   "id": "6638e50c-0908-470e-91b6-a5f5e181ce5c",
   "metadata": {},
   "outputs": [],
   "source": [
    "df_merged['Year'] = df_merged['DATE'].map(lambda x: x.split('-')[0])"
   ]
  },
  {
   "cell_type": "code",
   "execution_count": null,
   "id": "f5b1a916-d590-4684-ac58-505d01e3713f",
   "metadata": {},
   "outputs": [],
   "source": [
    "df_merged = df_merged[['ML Number', 'Year', 'TAVG']]"
   ]
  },
  {
   "cell_type": "code",
   "execution_count": null,
   "id": "39135979-0532-4602-b78b-da2e34b8c21e",
   "metadata": {},
   "outputs": [],
   "source": [
    "df_year=df_merged.groupby('Year').nunique()['ML Number'].reset_index()\n",
    "df_year = df_year.merge(df_merged.groupby(\"Year\").mean()['TAVG'].reset_index(),on=['Year'])\n",
    "df_year.dropna(inplace=True)"
   ]
  },
  {
   "cell_type": "code",
   "execution_count": null,
   "id": "8bfeb3b5-ab9d-43a0-b249-e296de0c8f0a",
   "metadata": {},
   "outputs": [],
   "source": [
    "df_year"
   ]
  },
  {
   "cell_type": "code",
   "execution_count": null,
   "id": "6f2d7e94-933b-47bf-abe0-ae3ddef8a07a",
   "metadata": {},
   "outputs": [],
   "source": [
    "df_year_long = df_year.melt(id_vars='Year')"
   ]
  },
  {
   "cell_type": "code",
   "execution_count": null,
   "id": "bd983db2-ebee-4ff2-9312-a0e92c2baccb",
   "metadata": {},
   "outputs": [],
   "source": [
    "df_year_long"
   ]
  },
  {
   "cell_type": "code",
   "execution_count": null,
   "id": "e18ae4b0-a145-4087-9c09-c6f5f3c0b31e",
   "metadata": {},
   "outputs": [],
   "source": [
    "sns.lineplot(x='Year', y='value', hue='variable', data=df_year_long)"
   ]
  },
  {
   "cell_type": "markdown",
   "id": "13cd329d-46dd-4364-bf6e-2fafb5c1e0e9",
   "metadata": {},
   "source": [
    "**_There should be a third axis here that separates temperature measurements from number of migrant deaths. That being said, while this dataset cannot be used in an article due to its illegibility for readers, I think it still supports my initial hypothesis. It must be noted that this data visualization represents the average of all 12 months, not just summer months — when most migrant deaths happen._**"
   ]
  },
  {
   "cell_type": "markdown",
   "id": "eb5ac686-f830-4bb9-aede-da8fc6e0472a",
   "metadata": {},
   "source": [
    "***"
   ]
  },
  {
   "cell_type": "markdown",
   "id": "6d3dc436-2280-47fa-a8b9-a0762f14b1c2",
   "metadata": {},
   "source": [
    "# **FINDINGS & CITATIONS**"
   ]
  },
  {
   "cell_type": "markdown",
   "id": "42ff43f3-44c9-435c-aa62-24bc5ea8fe76",
   "metadata": {},
   "source": [
    "### In this notebook, I set out to visualize my datasets for my readership, and to find if there is a correlation between an increase in migrant deaths and an increase in hot temperatures due to climate change. \n",
    "\n",
    "**→** Using Geopandas, I was able to create an interactive, color-coded map that showed where each migrant lost their life. I was also able to isolate the variables for exposure and plot those points. Then, to investigate my hypothesis, I merged the data on the date column to see if the dates of high temperatures correlated with a spike in migrant deaths. In [29], we see that this is true. However, as noted above, confounding variables and the lack of concrete cause of death prevents me from finding a solid relationship between these two variables. Despite this, I believe these findings contribute to my story and paint a more vivid picture for my readers. "
   ]
  },
  {
   "cell_type": "markdown",
   "id": "f5f64d4b-0d62-4998-ac7b-86811372fb81",
   "metadata": {},
   "source": [
    "### Citations\n",
    "\n",
    "Arizona OpenGIS Initiative for Deceased Migrants. (n.d.). [Dataset]. https://humaneborders.info/app/map.asp \n",
    "\n",
    "Local Climatological Data - AJO 29 subsstation. (n.d.). [Dataset]. In AJO 29 S, AZ US. National Oceanic and Atmospheric Administration - National Centers for Environmental Information. https://www.ncei.noaa.gov/cdo-web/datasets/LCD/stations/WBAN:53168/detail "
   ]
  },
  {
   "cell_type": "code",
   "execution_count": null,
   "id": "e8c56858-a2fe-4f11-9bb5-ab26c87f24e7",
   "metadata": {},
   "outputs": [],
   "source": []
  }
 ],
 "metadata": {
  "kernelspec": {
   "display_name": "Python 3 (ipykernel)",
   "language": "python",
   "name": "python3"
  },
  "language_info": {
   "codemirror_mode": {
    "name": "ipython",
    "version": 3
   },
   "file_extension": ".py",
   "mimetype": "text/x-python",
   "name": "python",
   "nbconvert_exporter": "python",
   "pygments_lexer": "ipython3",
   "version": "3.9.13"
  }
 },
 "nbformat": 4,
 "nbformat_minor": 5
}
